{
 "cells": [
  {
   "cell_type": "code",
   "execution_count": 1,
   "id": "c2f8cafc",
   "metadata": {
    "hideCode": false,
    "hidePrompt": false
   },
   "outputs": [],
   "source": [
    "from housingresearch.systems import CensusClient\n",
    "from housingresearch.config import settings\n",
    "from us import states"
   ]
  },
  {
   "cell_type": "markdown",
   "id": "d3d03255",
   "metadata": {},
   "source": [
    "Initialize a `CensusClient` explorer."
   ]
  },
  {
   "cell_type": "code",
   "execution_count": 2,
   "id": "975e5168",
   "metadata": {
    "hideCode": false,
    "hidePrompt": false
   },
   "outputs": [],
   "source": [
    "c = CensusClient()"
   ]
  },
  {
   "cell_type": "markdown",
   "id": "1fc430ab",
   "metadata": {},
   "source": [
    "Get a variable across a set of census tracts"
   ]
  },
  {
   "cell_type": "code",
   "execution_count": null,
   "id": "64ad9d9d",
   "metadata": {},
   "outputs": [],
   "source": [
    "old_homes = c.census.acs5.state_place_tract(\n",
    "    fields=(\"NAME\", \"B25034_010E\"),\n",
    "    state=states.FL.fips,\n",
    "    place=63000,\n",
    "    year=2019,\n",
    "    return_geometry=False,\n",
    ")\n",
    "\n",
    "old_homes[0:2]"
   ]
  },
  {
   "cell_type": "markdown",
   "id": "4dc034f8",
   "metadata": {},
   "source": [
    "Get median rent for each census tract in Saint Petersburg. \n",
    "\n",
    "- B25031_001E is median rent for a studio\n",
    "- B25031_002E is median rent for a one-bedroom\n",
    "- B25031_003E is median rent for a two-bedroom"
   ]
  },
  {
   "cell_type": "code",
   "execution_count": null,
   "id": "3c5c673c",
   "metadata": {
    "scrolled": true
   },
   "outputs": [],
   "source": [
    "median_rent = c.census.acs5.state_place_tract(\n",
    "    fields=(\"NAME\", \"B25031_001E\", \"B25031_002E\", \"B25031_003E\"),\n",
    "    state=states.FL.fips,\n",
    "    place=63000,\n",
    "    year=2019,\n",
    "    return_geometry=False,\n",
    ")\n",
    "\n",
    "median_rent[0:2]"
   ]
  }
 ],
 "metadata": {
  "hide_code_all_hidden": false,
  "kernelspec": {
   "display_name": "Python 3 (ipykernel)",
   "language": "python",
   "name": "python3"
  },
  "language_info": {
   "codemirror_mode": {
    "name": "ipython",
    "version": 3
   },
   "file_extension": ".py",
   "mimetype": "text/x-python",
   "name": "python",
   "nbconvert_exporter": "python",
   "pygments_lexer": "ipython3",
   "version": "3.9.5"
  },
  "toc": {
   "base_numbering": 1,
   "nav_menu": {},
   "number_sections": true,
   "sideBar": true,
   "skip_h1_title": false,
   "title_cell": "Table of Contents",
   "title_sidebar": "Contents",
   "toc_cell": false,
   "toc_position": {},
   "toc_section_display": true,
   "toc_window_display": false
  }
 },
 "nbformat": 4,
 "nbformat_minor": 5
}
