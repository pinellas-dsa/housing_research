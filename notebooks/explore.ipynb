{
 "cells": [
  {
   "cell_type": "markdown",
   "id": "480c803f",
   "metadata": {},
   "source": [
    "# Housing Data System\n",
    "Not sure what to call this repo yet, but it pulls data from the census (and ultimately from other sources too) and makes it easy to answer the kinds of questions that the Housing Campaign often gets. Like \"Did rents in Gulfport really increase by 90% last year, or what?\""
   ]
  },
  {
   "cell_type": "markdown",
   "id": "76df26f3",
   "metadata": {},
   "source": [
    "## Setup"
   ]
  },
  {
   "cell_type": "code",
   "execution_count": 1,
   "id": "c2f8cafc",
   "metadata": {
    "hideCode": false,
    "hidePrompt": false
   },
   "outputs": [],
   "source": [
    "import pandas as pd\n",
    "from us import states\n",
    "from typing import Tuple, List\n",
    "from pprint import pprint\n",
    "from housingresearch.systems import CensusClient, Query, ACS_TABLES\n",
    "from housingresearch.config import settings\n",
    "\n",
    "Records = List[dict]"
   ]
  },
  {
   "cell_type": "markdown",
   "id": "5005916c",
   "metadata": {},
   "source": [
    "Initialize a `CensusClient` explorer."
   ]
  },
  {
   "cell_type": "code",
   "execution_count": 2,
   "id": "975e5168",
   "metadata": {
    "hideCode": false,
    "hidePrompt": false
   },
   "outputs": [],
   "source": [
    "cen = CensusClient()"
   ]
  },
  {
   "cell_type": "markdown",
   "id": "761c391f",
   "metadata": {},
   "source": [
    "## Get a variable across all census tracts in a \"place\"\n",
    "Note that \"place\" is the Census API's term for \"City\". So here I'm querying Bushnell, which has just three tracts. "
   ]
  },
  {
   "cell_type": "code",
   "execution_count": 3,
   "id": "f2168a66",
   "metadata": {},
   "outputs": [
    {
     "name": "stderr",
     "output_type": "stream",
     "text": [
      "2022-04-28 14:24:03.335 | INFO     | housingresearch.systems.census.client:get_data_by_tract:100 - Querying Census API.\n"
     ]
    },
    {
     "name": "stdout",
     "output_type": "stream",
     "text": [
      "Found lookup data for table B25070.\n"
     ]
    },
    {
     "name": "stderr",
     "output_type": "stream",
     "text": [
      "Finding max/min from statistics failed. Trying OID enumeration.\n",
      "Traceback (most recent call last):\n",
      "  File \"/Users/james/Documents/Data_Projects/housing_research/env/lib/python3.9/site-packages/esridump/dumper.py\", line 352, in __iter__\n",
      "    (oid_min, oid_max) = self._get_layer_min_max(oid_field_name)\n",
      "  File \"/Users/james/Documents/Data_Projects/housing_research/env/lib/python3.9/site-packages/esridump/dumper.py\", line 187, in _get_layer_min_max\n",
      "    metadata = self._handle_esri_errors(response, \"Could not retrieve min/max oid values\")\n",
      "  File \"/Users/james/Documents/Data_Projects/housing_research/env/lib/python3.9/site-packages/esridump/dumper.py\", line 107, in _handle_esri_errors\n",
      "    raise EsriDownloadError(\"{}: {} {}\" .format(\n",
      "esridump.errors.EsriDownloadError: Could not retrieve min/max oid values: Error performing query operation \n",
      "2022-04-28 14:24:16.117 | INFO     | housingresearch.systems.census.client:get_data_by_tract:100 - Querying Census API.\n"
     ]
    },
    {
     "name": "stdout",
     "output_type": "stream",
     "text": [
      "EsriDownloadError was raised.\n"
     ]
    },
    {
     "name": "stderr",
     "output_type": "stream",
     "text": [
      "2022-04-28 14:24:40.730 | INFO     | housingresearch.systems.census.client:get_data_by_tract:108 - Query successful!\n",
      "2022-04-28 14:24:40.731 | INFO     | housingresearch.systems.census.client:__init__:67 - Query instantiated.\n"
     ]
    }
   ],
   "source": [
    "specs = [\n",
    "    {\n",
    "        \"table_name\": \"B25070\",\n",
    "        \"survey\": \"acs5\",\n",
    "        \"year\": 2019,\n",
    "        \"state\": \"FL\",\n",
    "        \"place\": \"09625\",\n",
    "        \"level\": \"tract\",\n",
    "    }\n",
    "]\n",
    "cen.run_queries(specs)"
   ]
  },
  {
   "cell_type": "markdown",
   "id": "9b036b6c",
   "metadata": {},
   "source": [
    "Confirming that three tracts were delivered."
   ]
  },
  {
   "cell_type": "code",
   "execution_count": 4,
   "id": "85a8f595",
   "metadata": {
    "scrolled": true
   },
   "outputs": [
    {
     "name": "stdout",
     "output_type": "stream",
     "text": [
      "3\n"
     ]
    }
   ],
   "source": [
    "query = cen.queries[0]\n",
    "print(len(query.api_results))"
   ]
  },
  {
   "cell_type": "markdown",
   "id": "4f24a9d6",
   "metadata": {
    "hideCode": true,
    "hideOutput": true
   },
   "source": [
    "Here's the format the results come back in. These are \"lists of dicts\" which can be called the `Records` format."
   ]
  },
  {
   "cell_type": "code",
   "execution_count": 5,
   "id": "408e1621",
   "metadata": {},
   "outputs": [
    {
     "name": "stdout",
     "output_type": "stream",
     "text": [
      "{'B25070_001E': 285.0,\n",
      " 'B25070_001M': 81.0,\n",
      " 'B25070_002E': 21.0,\n",
      " 'B25070_002M': 23.0,\n",
      " 'B25070_003E': 6.0,\n",
      " 'B25070_003M': 12.0,\n",
      " 'B25070_004E': 11.0,\n",
      " 'B25070_004M': 17.0,\n",
      " 'B25070_005E': 21.0,\n",
      " 'B25070_005M': 23.0,\n",
      " 'B25070_006E': 117.0,\n",
      " 'B25070_006M': 68.0,\n",
      " 'B25070_007E': 11.0,\n",
      " 'B25070_007M': 16.0,\n",
      " 'B25070_008E': 14.0,\n",
      " 'B25070_008M': 18.0,\n",
      " 'B25070_009E': 10.0,\n",
      " 'B25070_009M': 15.0,\n",
      " 'B25070_010E': 74.0,\n",
      " 'B25070_010M': 48.0,\n",
      " 'B25070_011E': 0.0,\n",
      " 'B25070_011M': 14.0,\n",
      " 'county': '119',\n",
      " 'state': '12',\n",
      " 'tract': '910402'}\n"
     ]
    }
   ],
   "source": [
    "pprint(query.api_results[0])"
   ]
  },
  {
   "cell_type": "markdown",
   "id": "66fb144a",
   "metadata": {},
   "source": [
    "Here's what we see if we convert that list of dicts to a table. "
   ]
  },
  {
   "cell_type": "code",
   "execution_count": 6,
   "id": "bcebe08c",
   "metadata": {},
   "outputs": [],
   "source": [
    "df = pd.DataFrame.from_records(query.api_results)"
   ]
  },
  {
   "cell_type": "code",
   "execution_count": 7,
   "id": "93ef7d22",
   "metadata": {},
   "outputs": [
    {
     "data": {
      "text/html": [
       "<div>\n",
       "<style scoped>\n",
       "    .dataframe tbody tr th:only-of-type {\n",
       "        vertical-align: middle;\n",
       "    }\n",
       "\n",
       "    .dataframe tbody tr th {\n",
       "        vertical-align: top;\n",
       "    }\n",
       "\n",
       "    .dataframe thead th {\n",
       "        text-align: right;\n",
       "    }\n",
       "</style>\n",
       "<table border=\"1\" class=\"dataframe\">\n",
       "  <thead>\n",
       "    <tr style=\"text-align: right;\">\n",
       "      <th></th>\n",
       "      <th>001E</th>\n",
       "      <th>002E</th>\n",
       "      <th>003E</th>\n",
       "      <th>004E</th>\n",
       "      <th>005E</th>\n",
       "      <th>006E</th>\n",
       "      <th>007E</th>\n",
       "      <th>008E</th>\n",
       "      <th>009E</th>\n",
       "      <th>010E</th>\n",
       "      <th>...</th>\n",
       "      <th>008M</th>\n",
       "      <th>009M</th>\n",
       "      <th>010M</th>\n",
       "      <th>011M</th>\n",
       "      <th>state</th>\n",
       "      <th>county</th>\n",
       "      <th>tract</th>\n",
       "      <th>year</th>\n",
       "      <th>place</th>\n",
       "      <th>table</th>\n",
       "    </tr>\n",
       "  </thead>\n",
       "  <tbody>\n",
       "    <tr>\n",
       "      <th>0</th>\n",
       "      <td>285.0</td>\n",
       "      <td>21.0</td>\n",
       "      <td>6.0</td>\n",
       "      <td>11.0</td>\n",
       "      <td>21.0</td>\n",
       "      <td>117.0</td>\n",
       "      <td>11.0</td>\n",
       "      <td>14.0</td>\n",
       "      <td>10.0</td>\n",
       "      <td>74.0</td>\n",
       "      <td>...</td>\n",
       "      <td>18.0</td>\n",
       "      <td>15.0</td>\n",
       "      <td>48.0</td>\n",
       "      <td>14.0</td>\n",
       "      <td>12</td>\n",
       "      <td>119</td>\n",
       "      <td>910402</td>\n",
       "      <td>2019</td>\n",
       "      <td>09625</td>\n",
       "      <td>B25070</td>\n",
       "    </tr>\n",
       "    <tr>\n",
       "      <th>1</th>\n",
       "      <td>413.0</td>\n",
       "      <td>0.0</td>\n",
       "      <td>27.0</td>\n",
       "      <td>58.0</td>\n",
       "      <td>44.0</td>\n",
       "      <td>56.0</td>\n",
       "      <td>23.0</td>\n",
       "      <td>6.0</td>\n",
       "      <td>76.0</td>\n",
       "      <td>62.0</td>\n",
       "      <td>...</td>\n",
       "      <td>11.0</td>\n",
       "      <td>61.0</td>\n",
       "      <td>47.0</td>\n",
       "      <td>37.0</td>\n",
       "      <td>12</td>\n",
       "      <td>119</td>\n",
       "      <td>910500</td>\n",
       "      <td>2019</td>\n",
       "      <td>09625</td>\n",
       "      <td>B25070</td>\n",
       "    </tr>\n",
       "    <tr>\n",
       "      <th>2</th>\n",
       "      <td>376.0</td>\n",
       "      <td>0.0</td>\n",
       "      <td>18.0</td>\n",
       "      <td>27.0</td>\n",
       "      <td>30.0</td>\n",
       "      <td>29.0</td>\n",
       "      <td>17.0</td>\n",
       "      <td>68.0</td>\n",
       "      <td>34.0</td>\n",
       "      <td>122.0</td>\n",
       "      <td>...</td>\n",
       "      <td>76.0</td>\n",
       "      <td>36.0</td>\n",
       "      <td>83.0</td>\n",
       "      <td>24.0</td>\n",
       "      <td>12</td>\n",
       "      <td>119</td>\n",
       "      <td>910601</td>\n",
       "      <td>2019</td>\n",
       "      <td>09625</td>\n",
       "      <td>B25070</td>\n",
       "    </tr>\n",
       "  </tbody>\n",
       "</table>\n",
       "<p>3 rows × 28 columns</p>\n",
       "</div>"
      ],
      "text/plain": [
       "    001E  002E  003E  004E  005E   006E  007E  008E  009E   010E  ...  008M  \\\n",
       "0  285.0  21.0   6.0  11.0  21.0  117.0  11.0  14.0  10.0   74.0  ...  18.0   \n",
       "1  413.0   0.0  27.0  58.0  44.0   56.0  23.0   6.0  76.0   62.0  ...  11.0   \n",
       "2  376.0   0.0  18.0  27.0  30.0   29.0  17.0  68.0  34.0  122.0  ...  76.0   \n",
       "\n",
       "   009M  010M  011M  state  county   tract  year  place   table  \n",
       "0  15.0  48.0  14.0     12     119  910402  2019  09625  B25070  \n",
       "1  61.0  47.0  37.0     12     119  910500  2019  09625  B25070  \n",
       "2  36.0  83.0  24.0     12     119  910601  2019  09625  B25070  \n",
       "\n",
       "[3 rows x 28 columns]"
      ]
     },
     "execution_count": 7,
     "metadata": {},
     "output_type": "execute_result"
    }
   ],
   "source": [
    "df[\"year\"] = query.year\n",
    "df[\"place\"] = query.place\n",
    "df[\"table\"] = query.table_name\n",
    "df.columns = [col.replace(query.table_name + \"_\", \"\") for col in df.columns]\n",
    "df"
   ]
  }
 ],
 "metadata": {
  "hide_code_all_hidden": false,
  "kernelspec": {
   "display_name": "Python 3 (ipykernel)",
   "language": "python",
   "name": "python3"
  },
  "language_info": {
   "codemirror_mode": {
    "name": "ipython",
    "version": 3
   },
   "file_extension": ".py",
   "mimetype": "text/x-python",
   "name": "python",
   "nbconvert_exporter": "python",
   "pygments_lexer": "ipython3",
   "version": "3.9.5"
  },
  "toc": {
   "base_numbering": 1,
   "nav_menu": {},
   "number_sections": true,
   "sideBar": true,
   "skip_h1_title": true,
   "title_cell": "Table of Contents",
   "title_sidebar": "Contents",
   "toc_cell": false,
   "toc_position": {},
   "toc_section_display": true,
   "toc_window_display": true
  }
 },
 "nbformat": 4,
 "nbformat_minor": 5
}
