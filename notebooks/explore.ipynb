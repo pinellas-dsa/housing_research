{
 "cells": [
  {
   "cell_type": "code",
   "execution_count": 4,
   "id": "c2f8cafc",
   "metadata": {
    "hideCode": false,
    "hidePrompt": false
   },
   "outputs": [],
   "source": [
    "import pandas as pd\n",
    "from us import states\n",
    "\n",
    "from housingresearch.systems import CensusClient\n",
    "from housingresearch.config import settings"
   ]
  },
  {
   "cell_type": "markdown",
   "id": "5005916c",
   "metadata": {},
   "source": [
    "Initialize a `CensusClient` explorer."
   ]
  },
  {
   "cell_type": "code",
   "execution_count": 5,
   "id": "975e5168",
   "metadata": {
    "hideCode": false,
    "hidePrompt": false
   },
   "outputs": [],
   "source": [
    "c = CensusClient()"
   ]
  },
  {
   "cell_type": "markdown",
   "id": "761c391f",
   "metadata": {},
   "source": [
    "Get a variable across a set of census tracts"
   ]
  },
  {
   "cell_type": "code",
   "execution_count": 6,
   "id": "e5cab295",
   "metadata": {},
   "outputs": [
    {
     "data": {
      "text/plain": [
       "[{'NAME': 'Census Tract 201.01, Pinellas County, Florida',\n",
       "  'B25034_010E': 301.0,\n",
       "  'state': '12',\n",
       "  'county': '103',\n",
       "  'tract': '020101'},\n",
       " {'NAME': 'Census Tract 201.05, Pinellas County, Florida',\n",
       "  'B25034_010E': 0.0,\n",
       "  'state': '12',\n",
       "  'county': '103',\n",
       "  'tract': '020105'}]"
      ]
     },
     "execution_count": 6,
     "metadata": {},
     "output_type": "execute_result"
    }
   ],
   "source": [
    "old_homes = c.census.acs5.state_place_tract(\n",
    "    fields=(\"NAME\", \"B25034_010E\"),\n",
    "    state=states.FL.fips,\n",
    "    place=63000,\n",
    "    year=2019,\n",
    "    return_geometry=False,\n",
    ")\n",
    "\n",
    "old_homes[0:2]"
   ]
  },
  {
   "cell_type": "markdown",
   "id": "4d36044c",
   "metadata": {},
   "source": [
    "Get median rent for each census tract in Saint Petersburg. \n",
    "\n",
    "- B25031_001E is total median rent \n",
    "- B25031_002E is median rent for a studio\n",
    "- B25031_003E is median rent for a one-bedroom"
   ]
  },
  {
   "cell_type": "code",
   "execution_count": 17,
   "id": "3c5c673c",
   "metadata": {
    "scrolled": true
   },
   "outputs": [
    {
     "data": {
      "text/plain": [
       "[{'NAME': 'Census Tract 201.01, Pinellas County, Florida',\n",
       "  'B25031_001E': 923.0,\n",
       "  'B25031_002E': -666666666.0,\n",
       "  'B25031_003E': 460.0,\n",
       "  'B25031_004E': 721.0,\n",
       "  'state': '12',\n",
       "  'county': '103',\n",
       "  'tract': '020101'},\n",
       " {'NAME': 'Census Tract 201.05, Pinellas County, Florida',\n",
       "  'B25031_001E': 1620.0,\n",
       "  'B25031_002E': 2895.0,\n",
       "  'B25031_003E': -666666666.0,\n",
       "  'B25031_004E': 1404.0,\n",
       "  'state': '12',\n",
       "  'county': '103',\n",
       "  'tract': '020105'}]"
      ]
     },
     "execution_count": 17,
     "metadata": {},
     "output_type": "execute_result"
    }
   ],
   "source": [
    "median_rent = c.census.acs5.state_place_tract(\n",
    "    fields=(\"NAME\", \"B25031_001E\", \"B25031_002E\", \"B25031_003E\", \"B25031_004E\"),\n",
    "    state=states.FL.fips,\n",
    "    place=63000,\n",
    "    year=2019,\n",
    "    return_geometry=False,\n",
    ")\n",
    "\n",
    "median_rent[0:2]"
   ]
  },
  {
   "cell_type": "code",
   "execution_count": 19,
   "id": "7d5fdf7b",
   "metadata": {},
   "outputs": [],
   "source": [
    "table = pd.DataFrame.from_records(median_rent)\n",
    "table.to_csv('rent_data.csv')"
   ]
  },
  {
   "cell_type": "code",
   "execution_count": 9,
   "id": "c969b463",
   "metadata": {},
   "outputs": [
    {
     "ename": "CensusException",
     "evalue": "error: error: unknown variable 'B25031_001E'",
     "output_type": "error",
     "traceback": [
      "\u001b[0;31m---------------------------------------------------------------------------\u001b[0m",
      "\u001b[0;31mCensusException\u001b[0m                           Traceback (most recent call last)",
      "Input \u001b[0;32mIn [9]\u001b[0m, in \u001b[0;36m<cell line: 1>\u001b[0;34m()\u001b[0m\n\u001b[0;32m----> 1\u001b[0m median_rent \u001b[38;5;241m=\u001b[39m \u001b[43mc\u001b[49m\u001b[38;5;241;43m.\u001b[39;49m\u001b[43mcensus\u001b[49m\u001b[38;5;241;43m.\u001b[39;49m\u001b[43msf1\u001b[49m\u001b[38;5;241;43m.\u001b[39;49m\u001b[43mstate_place_tract\u001b[49m\u001b[43m(\u001b[49m\n\u001b[1;32m      2\u001b[0m \u001b[43m    \u001b[49m\u001b[43mfields\u001b[49m\u001b[38;5;241;43m=\u001b[39;49m\u001b[43m(\u001b[49m\u001b[38;5;124;43m\"\u001b[39;49m\u001b[38;5;124;43mNAME\u001b[39;49m\u001b[38;5;124;43m\"\u001b[39;49m\u001b[43m,\u001b[49m\u001b[43m \u001b[49m\u001b[38;5;124;43m\"\u001b[39;49m\u001b[38;5;124;43mB25031_001E\u001b[39;49m\u001b[38;5;124;43m\"\u001b[39;49m\u001b[43m,\u001b[49m\u001b[43m \u001b[49m\u001b[38;5;124;43m\"\u001b[39;49m\u001b[38;5;124;43mB25031_002E\u001b[39;49m\u001b[38;5;124;43m\"\u001b[39;49m\u001b[43m,\u001b[49m\u001b[43m \u001b[49m\u001b[38;5;124;43m\"\u001b[39;49m\u001b[38;5;124;43mB25031_003E\u001b[39;49m\u001b[38;5;124;43m\"\u001b[39;49m\u001b[43m)\u001b[49m\u001b[43m,\u001b[49m\n\u001b[1;32m      3\u001b[0m \u001b[43m    \u001b[49m\u001b[43mstate\u001b[49m\u001b[38;5;241;43m=\u001b[39;49m\u001b[43mstates\u001b[49m\u001b[38;5;241;43m.\u001b[39;49m\u001b[43mFL\u001b[49m\u001b[38;5;241;43m.\u001b[39;49m\u001b[43mfips\u001b[49m\u001b[43m,\u001b[49m\n\u001b[1;32m      4\u001b[0m \u001b[43m    \u001b[49m\u001b[43mplace\u001b[49m\u001b[38;5;241;43m=\u001b[39;49m\u001b[38;5;241;43m63000\u001b[39;49m\u001b[43m,\u001b[49m\n\u001b[1;32m      5\u001b[0m \u001b[43m    \u001b[49m\u001b[43myear\u001b[49m\u001b[38;5;241;43m=\u001b[39;49m\u001b[38;5;241;43m2010\u001b[39;49m\u001b[43m,\u001b[49m\n\u001b[1;32m      6\u001b[0m \u001b[43m    \u001b[49m\u001b[43mreturn_geometry\u001b[49m\u001b[38;5;241;43m=\u001b[39;49m\u001b[38;5;28;43;01mFalse\u001b[39;49;00m\u001b[43m,\u001b[49m\n\u001b[1;32m      7\u001b[0m \u001b[43m)\u001b[49m\n\u001b[1;32m      9\u001b[0m median_rent[\u001b[38;5;241m0\u001b[39m:\u001b[38;5;241m4\u001b[39m]\n",
      "File \u001b[0;32m~/Documents/Data_Projects/housing_research/env/lib/python3.9/site-packages/census/core.py:50\u001b[0m, in \u001b[0;36msupported_years.<locals>.inner.<locals>.wrapper\u001b[0;34m(self, *args, **kwargs)\u001b[0m\n\u001b[1;32m     47\u001b[0m \u001b[38;5;28;01mif\u001b[39;00m \u001b[38;5;28mint\u001b[39m(year) \u001b[38;5;129;01mnot\u001b[39;00m \u001b[38;5;129;01min\u001b[39;00m _years:\n\u001b[1;32m     48\u001b[0m     \u001b[38;5;28;01mraise\u001b[39;00m UnsupportedYearException(\n\u001b[1;32m     49\u001b[0m         \u001b[38;5;124m'\u001b[39m\u001b[38;5;124mGeography is not available in \u001b[39m\u001b[38;5;132;01m{}\u001b[39;00m\u001b[38;5;124m. Available years include \u001b[39m\u001b[38;5;132;01m{}\u001b[39;00m\u001b[38;5;124m'\u001b[39m\u001b[38;5;241m.\u001b[39mformat(year, _years))\n\u001b[0;32m---> 50\u001b[0m \u001b[38;5;28;01mreturn\u001b[39;00m \u001b[43mfunc\u001b[49m\u001b[43m(\u001b[49m\u001b[38;5;28;43mself\u001b[39;49m\u001b[43m,\u001b[49m\u001b[43m \u001b[49m\u001b[38;5;241;43m*\u001b[39;49m\u001b[43margs\u001b[49m\u001b[43m,\u001b[49m\u001b[43m \u001b[49m\u001b[38;5;241;43m*\u001b[39;49m\u001b[38;5;241;43m*\u001b[39;49m\u001b[43mkwargs\u001b[49m\u001b[43m)\u001b[49m\n",
      "File \u001b[0;32m~/Documents/Data_Projects/housing_research/env/lib/python3.9/site-packages/census_area/__init__.py:224\u001b[0m, in \u001b[0;36mSF1Client.state_place_tract\u001b[0;34m(self, *args, **kwargs)\u001b[0m\n\u001b[1;32m    222\u001b[0m \u001b[38;5;129m@supported_years\u001b[39m(\u001b[38;5;241m2010\u001b[39m)\n\u001b[1;32m    223\u001b[0m \u001b[38;5;28;01mdef\u001b[39;00m \u001b[38;5;21mstate_place_tract\u001b[39m(\u001b[38;5;28mself\u001b[39m, \u001b[38;5;241m*\u001b[39margs, \u001b[38;5;241m*\u001b[39m\u001b[38;5;241m*\u001b[39mkwargs):\n\u001b[0;32m--> 224\u001b[0m     \u001b[38;5;28;01mreturn\u001b[39;00m \u001b[38;5;28;43mself\u001b[39;49m\u001b[38;5;241;43m.\u001b[39;49m\u001b[43m_state_place_area\u001b[49m\u001b[43m(\u001b[49m\u001b[38;5;28;43mself\u001b[39;49m\u001b[38;5;241;43m.\u001b[39;49m\u001b[43mgeo_tract\u001b[49m\u001b[43m,\u001b[49m\u001b[43m \u001b[49m\u001b[38;5;241;43m*\u001b[39;49m\u001b[43margs\u001b[49m\u001b[43m,\u001b[49m\u001b[43m \u001b[49m\u001b[38;5;241;43m*\u001b[39;49m\u001b[38;5;241;43m*\u001b[39;49m\u001b[43mkwargs\u001b[49m\u001b[43m)\u001b[49m\n",
      "File \u001b[0;32m~/Documents/Data_Projects/housing_research/env/lib/python3.9/site-packages/census_area/__init__.py:109\u001b[0m, in \u001b[0;36mGeoClient._state_place_area\u001b[0;34m(self, method, fields, state, place, year, return_geometry, **kwargs)\u001b[0m\n\u001b[1;32m    106\u001b[0m areas \u001b[38;5;241m=\u001b[39m method(fields, place_geojson, year, \u001b[38;5;241m*\u001b[39m\u001b[38;5;241m*\u001b[39mkwargs)\n\u001b[1;32m    108\u001b[0m features \u001b[38;5;241m=\u001b[39m []\n\u001b[0;32m--> 109\u001b[0m \u001b[38;5;28;01mfor\u001b[39;00m i, (feature, result, _) \u001b[38;5;129;01min\u001b[39;00m \u001b[38;5;28menumerate\u001b[39m(areas):\n\u001b[1;32m    110\u001b[0m     \u001b[38;5;28;01mif\u001b[39;00m return_geometry:\n\u001b[1;32m    111\u001b[0m         feature[\u001b[38;5;124m'\u001b[39m\u001b[38;5;124mproperties\u001b[39m\u001b[38;5;124m'\u001b[39m]\u001b[38;5;241m.\u001b[39mupdate(result)\n",
      "File \u001b[0;32m~/Documents/Data_Projects/housing_research/env/lib/python3.9/site-packages/census_area/__init__.py:43\u001b[0m, in \u001b[0;36mGeoClient.geo_tract\u001b[0;34m(self, fields, geojson_geometry, year, **kwargs)\u001b[0m\n\u001b[1;32m     40\u001b[0m within \u001b[38;5;241m=\u001b[39m \u001b[38;5;124m'\u001b[39m\u001b[38;5;124mstate:\u001b[39m\u001b[38;5;132;01m{state}\u001b[39;00m\u001b[38;5;124m county:\u001b[39m\u001b[38;5;132;01m{county}\u001b[39;00m\u001b[38;5;124m'\u001b[39m\u001b[38;5;241m.\u001b[39mformat(\u001b[38;5;241m*\u001b[39m\u001b[38;5;241m*\u001b[39mcontext)\n\u001b[1;32m     42\u001b[0m tract_id \u001b[38;5;241m=\u001b[39m tract[\u001b[38;5;124m'\u001b[39m\u001b[38;5;124mproperties\u001b[39m\u001b[38;5;124m'\u001b[39m][\u001b[38;5;124m'\u001b[39m\u001b[38;5;124mTRACT\u001b[39m\u001b[38;5;124m'\u001b[39m]\n\u001b[0;32m---> 43\u001b[0m result \u001b[38;5;241m=\u001b[39m \u001b[38;5;28;43mself\u001b[39;49m\u001b[38;5;241;43m.\u001b[39;49m\u001b[43mget\u001b[49m\u001b[43m(\u001b[49m\u001b[43mfields\u001b[49m\u001b[43m,\u001b[49m\n\u001b[1;32m     44\u001b[0m \u001b[43m                  \u001b[49m\u001b[43mHashDict\u001b[49m\u001b[43m(\u001b[49m\u001b[43m{\u001b[49m\u001b[38;5;124;43m'\u001b[39;49m\u001b[38;5;124;43mfor\u001b[39;49m\u001b[38;5;124;43m'\u001b[39;49m\u001b[43m:\u001b[49m\u001b[43m \u001b[49m\u001b[38;5;124;43m'\u001b[39;49m\u001b[38;5;124;43mtract:\u001b[39;49m\u001b[38;5;132;43;01m{}\u001b[39;49;00m\u001b[38;5;124;43m'\u001b[39;49m\u001b[38;5;241;43m.\u001b[39;49m\u001b[43mformat\u001b[49m\u001b[43m(\u001b[49m\u001b[43mtract_id\u001b[49m\u001b[43m)\u001b[49m\u001b[43m,\u001b[49m\n\u001b[1;32m     45\u001b[0m \u001b[43m                            \u001b[49m\u001b[38;5;124;43m'\u001b[39;49m\u001b[38;5;124;43min\u001b[39;49m\u001b[38;5;124;43m'\u001b[39;49m\u001b[43m:\u001b[49m\u001b[43m \u001b[49m\u001b[43mwithin\u001b[49m\u001b[43m}\u001b[49m\u001b[43m)\u001b[49m\u001b[43m,\u001b[49m\n\u001b[1;32m     46\u001b[0m \u001b[43m                  \u001b[49m\u001b[43myear\u001b[49m\u001b[43m,\u001b[49m\n\u001b[1;32m     47\u001b[0m \u001b[43m                  \u001b[49m\u001b[38;5;241;43m*\u001b[39;49m\u001b[38;5;241;43m*\u001b[39;49m\u001b[43mkwargs\u001b[49m\u001b[43m)\u001b[49m\n\u001b[1;32m     49\u001b[0m \u001b[38;5;28;01mif\u001b[39;00m result:\n\u001b[1;32m     50\u001b[0m     result, \u001b[38;5;241m=\u001b[39m result\n",
      "File \u001b[0;32m~/Documents/Data_Projects/housing_research/env/lib/python3.9/site-packages/census/core.py:449\u001b[0m, in \u001b[0;36mSF1Client.get\u001b[0;34m(self, *args, **kwargs)\u001b[0m\n\u001b[1;32m    446\u001b[0m \u001b[38;5;28;01mdef\u001b[39;00m \u001b[38;5;21mget\u001b[39m(\u001b[38;5;28mself\u001b[39m, \u001b[38;5;241m*\u001b[39margs, \u001b[38;5;241m*\u001b[39m\u001b[38;5;241m*\u001b[39mkwargs):\n\u001b[1;32m    447\u001b[0m     \u001b[38;5;28mself\u001b[39m\u001b[38;5;241m.\u001b[39m_switch_endpoints(kwargs\u001b[38;5;241m.\u001b[39mget(\u001b[38;5;124m'\u001b[39m\u001b[38;5;124myear\u001b[39m\u001b[38;5;124m'\u001b[39m, \u001b[38;5;28mself\u001b[39m\u001b[38;5;241m.\u001b[39mdefault_year))\n\u001b[0;32m--> 449\u001b[0m     \u001b[38;5;28;01mreturn\u001b[39;00m \u001b[38;5;28;43msuper\u001b[39;49m\u001b[43m(\u001b[49m\u001b[43mSF1Client\u001b[49m\u001b[43m,\u001b[49m\u001b[43m \u001b[49m\u001b[38;5;28;43mself\u001b[39;49m\u001b[43m)\u001b[49m\u001b[38;5;241;43m.\u001b[39;49m\u001b[43mget\u001b[49m\u001b[43m(\u001b[49m\u001b[38;5;241;43m*\u001b[39;49m\u001b[43margs\u001b[49m\u001b[43m,\u001b[49m\u001b[43m \u001b[49m\u001b[38;5;241;43m*\u001b[39;49m\u001b[38;5;241;43m*\u001b[39;49m\u001b[43mkwargs\u001b[49m\u001b[43m)\u001b[49m\n",
      "File \u001b[0;32m~/Documents/Data_Projects/housing_research/env/lib/python3.9/site-packages/census_area/__init__.py:26\u001b[0m, in \u001b[0;36mGeoClient.get\u001b[0;34m(self, *args, **kwargs)\u001b[0m\n\u001b[1;32m     24\u001b[0m \u001b[38;5;129m@lru_cache\u001b[39m\n\u001b[1;32m     25\u001b[0m \u001b[38;5;28;01mdef\u001b[39;00m \u001b[38;5;21mget\u001b[39m(\u001b[38;5;28mself\u001b[39m, \u001b[38;5;241m*\u001b[39margs, \u001b[38;5;241m*\u001b[39m\u001b[38;5;241m*\u001b[39mkwargs):\n\u001b[0;32m---> 26\u001b[0m     \u001b[38;5;28;01mreturn\u001b[39;00m \u001b[38;5;28;43msuper\u001b[39;49m\u001b[43m(\u001b[49m\u001b[43m)\u001b[49m\u001b[38;5;241;43m.\u001b[39;49m\u001b[43mget\u001b[49m\u001b[43m(\u001b[49m\u001b[38;5;241;43m*\u001b[39;49m\u001b[43margs\u001b[49m\u001b[43m,\u001b[49m\u001b[43m \u001b[49m\u001b[38;5;241;43m*\u001b[39;49m\u001b[38;5;241;43m*\u001b[39;49m\u001b[43mkwargs\u001b[49m\u001b[43m)\u001b[49m\n",
      "File \u001b[0;32m~/Documents/Data_Projects/housing_research/env/lib/python3.9/site-packages/census/core.py:159\u001b[0m, in \u001b[0;36mClient.get\u001b[0;34m(self, fields, geo, year, **kwargs)\u001b[0m\n\u001b[1;32m    156\u001b[0m sort_by_geoid \u001b[38;5;241m=\u001b[39m \u001b[38;5;28mlen\u001b[39m(fields) \u001b[38;5;241m>\u001b[39m \u001b[38;5;241m49\u001b[39m \u001b[38;5;129;01mand\u001b[39;00m (\u001b[38;5;129;01mnot\u001b[39;00m year \u001b[38;5;129;01mor\u001b[39;00m year \u001b[38;5;241m>\u001b[39m \u001b[38;5;241m2009\u001b[39m)\n\u001b[1;32m    157\u001b[0m all_results \u001b[38;5;241m=\u001b[39m (\u001b[38;5;28mself\u001b[39m\u001b[38;5;241m.\u001b[39mquery(forty_nine_fields, geo, year, sort_by_geoid\u001b[38;5;241m=\u001b[39msort_by_geoid, \u001b[38;5;241m*\u001b[39m\u001b[38;5;241m*\u001b[39mkwargs)\n\u001b[1;32m    158\u001b[0m                \u001b[38;5;28;01mfor\u001b[39;00m forty_nine_fields \u001b[38;5;129;01min\u001b[39;00m chunks(fields, \u001b[38;5;241m49\u001b[39m))\n\u001b[0;32m--> 159\u001b[0m merged_results \u001b[38;5;241m=\u001b[39m [merge(result) \u001b[38;5;28;01mfor\u001b[39;00m result \u001b[38;5;129;01min\u001b[39;00m \u001b[38;5;28;43mzip\u001b[39;49m\u001b[43m(\u001b[49m\u001b[38;5;241;43m*\u001b[39;49m\u001b[43mall_results\u001b[49m\u001b[43m)\u001b[49m]\n\u001b[1;32m    161\u001b[0m \u001b[38;5;28;01mreturn\u001b[39;00m merged_results\n",
      "File \u001b[0;32m~/Documents/Data_Projects/housing_research/env/lib/python3.9/site-packages/census/core.py:157\u001b[0m, in \u001b[0;36m<genexpr>\u001b[0;34m(.0)\u001b[0m\n\u001b[1;32m    150\u001b[0m \u001b[38;5;124;03m\"\"\"\u001b[39;00m\n\u001b[1;32m    151\u001b[0m \u001b[38;5;124;03mThe API only accepts up to 50 fields on each query.\u001b[39;00m\n\u001b[1;32m    152\u001b[0m \u001b[38;5;124;03mChunk requests, and use the unique GEO_ID to match up the chunks\u001b[39;00m\n\u001b[1;32m    153\u001b[0m \u001b[38;5;124;03min case the responses are in different orders.\u001b[39;00m\n\u001b[1;32m    154\u001b[0m \u001b[38;5;124;03mGEO_ID is not reliably present in pre-2010 requests.\u001b[39;00m\n\u001b[1;32m    155\u001b[0m \u001b[38;5;124;03m\"\"\"\u001b[39;00m\n\u001b[1;32m    156\u001b[0m sort_by_geoid \u001b[38;5;241m=\u001b[39m \u001b[38;5;28mlen\u001b[39m(fields) \u001b[38;5;241m>\u001b[39m \u001b[38;5;241m49\u001b[39m \u001b[38;5;129;01mand\u001b[39;00m (\u001b[38;5;129;01mnot\u001b[39;00m year \u001b[38;5;129;01mor\u001b[39;00m year \u001b[38;5;241m>\u001b[39m \u001b[38;5;241m2009\u001b[39m)\n\u001b[0;32m--> 157\u001b[0m all_results \u001b[38;5;241m=\u001b[39m (\u001b[38;5;28;43mself\u001b[39;49m\u001b[38;5;241;43m.\u001b[39;49m\u001b[43mquery\u001b[49m\u001b[43m(\u001b[49m\u001b[43mforty_nine_fields\u001b[49m\u001b[43m,\u001b[49m\u001b[43m \u001b[49m\u001b[43mgeo\u001b[49m\u001b[43m,\u001b[49m\u001b[43m \u001b[49m\u001b[43myear\u001b[49m\u001b[43m,\u001b[49m\u001b[43m \u001b[49m\u001b[43msort_by_geoid\u001b[49m\u001b[38;5;241;43m=\u001b[39;49m\u001b[43msort_by_geoid\u001b[49m\u001b[43m,\u001b[49m\u001b[43m \u001b[49m\u001b[38;5;241;43m*\u001b[39;49m\u001b[38;5;241;43m*\u001b[39;49m\u001b[43mkwargs\u001b[49m\u001b[43m)\u001b[49m\n\u001b[1;32m    158\u001b[0m                \u001b[38;5;28;01mfor\u001b[39;00m forty_nine_fields \u001b[38;5;129;01min\u001b[39;00m chunks(fields, \u001b[38;5;241m49\u001b[39m))\n\u001b[1;32m    159\u001b[0m merged_results \u001b[38;5;241m=\u001b[39m [merge(result) \u001b[38;5;28;01mfor\u001b[39;00m result \u001b[38;5;129;01min\u001b[39;00m \u001b[38;5;28mzip\u001b[39m(\u001b[38;5;241m*\u001b[39mall_results)]\n\u001b[1;32m    161\u001b[0m \u001b[38;5;28;01mreturn\u001b[39;00m merged_results\n",
      "File \u001b[0;32m~/Documents/Data_Projects/housing_research/env/lib/python3.9/site-packages/census/core.py:60\u001b[0m, in \u001b[0;36mretry_on_transient_error.<locals>.wrapper\u001b[0;34m(self, *args, **kwargs)\u001b[0m\n\u001b[1;32m     58\u001b[0m \u001b[38;5;28;01mfor\u001b[39;00m _ \u001b[38;5;129;01min\u001b[39;00m \u001b[38;5;28mrange\u001b[39m(\u001b[38;5;28mmax\u001b[39m(\u001b[38;5;28mself\u001b[39m\u001b[38;5;241m.\u001b[39mretries \u001b[38;5;241m-\u001b[39m \u001b[38;5;241m1\u001b[39m, \u001b[38;5;241m0\u001b[39m)):\n\u001b[1;32m     59\u001b[0m     \u001b[38;5;28;01mtry\u001b[39;00m:\n\u001b[0;32m---> 60\u001b[0m         result \u001b[38;5;241m=\u001b[39m \u001b[43mfunc\u001b[49m\u001b[43m(\u001b[49m\u001b[38;5;28;43mself\u001b[39;49m\u001b[43m,\u001b[49m\u001b[43m \u001b[49m\u001b[38;5;241;43m*\u001b[39;49m\u001b[43margs\u001b[49m\u001b[43m,\u001b[49m\u001b[43m \u001b[49m\u001b[38;5;241;43m*\u001b[39;49m\u001b[38;5;241;43m*\u001b[39;49m\u001b[43mkwargs\u001b[49m\u001b[43m)\u001b[49m\n\u001b[1;32m     61\u001b[0m     \u001b[38;5;28;01mexcept\u001b[39;00m CensusException \u001b[38;5;28;01mas\u001b[39;00m e:\n\u001b[1;32m     62\u001b[0m         \u001b[38;5;28;01mif\u001b[39;00m \u001b[38;5;124m\"\u001b[39m\u001b[38;5;124mThere was an error while running your query.  We\u001b[39m\u001b[38;5;124m'\u001b[39m\u001b[38;5;124mve logged the error and we\u001b[39m\u001b[38;5;124m'\u001b[39m\u001b[38;5;124mll correct it ASAP.  Sorry for the inconvenience.\u001b[39m\u001b[38;5;124m\"\u001b[39m \u001b[38;5;129;01min\u001b[39;00m \u001b[38;5;28mstr\u001b[39m(e):\n",
      "File \u001b[0;32m~/Documents/Data_Projects/housing_research/env/lib/python3.9/site-packages/census/core.py:214\u001b[0m, in \u001b[0;36mClient.query\u001b[0;34m(self, fields, geo, year, sort_by_geoid, **kwargs)\u001b[0m\n\u001b[1;32m    211\u001b[0m     \u001b[38;5;28;01mreturn\u001b[39;00m []\n\u001b[1;32m    213\u001b[0m \u001b[38;5;28;01melse\u001b[39;00m:\n\u001b[0;32m--> 214\u001b[0m     \u001b[38;5;28;01mraise\u001b[39;00m CensusException(resp\u001b[38;5;241m.\u001b[39mtext)\n",
      "\u001b[0;31mCensusException\u001b[0m: error: error: unknown variable 'B25031_001E'"
     ]
    }
   ],
   "source": [
    "median_rent = c.census.sf1.state_place_tract(\n",
    "    fields=(\"NAME\", \"B25031_001E\", \"B25031_002E\", \"B25031_003E\"),\n",
    "    state=states.FL.fips,\n",
    "    place=63000,\n",
    "    year=2010,\n",
    "    return_geometry=False,\n",
    ")\n",
    "\n",
    "median_rent[0:4]"
   ]
  },
  {
   "cell_type": "code",
   "execution_count": null,
   "id": "02c09541",
   "metadata": {},
   "outputs": [],
   "source": []
  }
 ],
 "metadata": {
  "hide_code_all_hidden": false,
  "kernelspec": {
   "display_name": "Python 3 (ipykernel)",
   "language": "python",
   "name": "python3"
  },
  "language_info": {
   "codemirror_mode": {
    "name": "ipython",
    "version": 3
   },
   "file_extension": ".py",
   "mimetype": "text/x-python",
   "name": "python",
   "nbconvert_exporter": "python",
   "pygments_lexer": "ipython3",
   "version": "3.9.5"
  },
  "toc": {
   "base_numbering": 1,
   "nav_menu": {},
   "number_sections": true,
   "sideBar": true,
   "skip_h1_title": false,
   "title_cell": "Table of Contents",
   "title_sidebar": "Contents",
   "toc_cell": false,
   "toc_position": {},
   "toc_section_display": true,
   "toc_window_display": false
  }
 },
 "nbformat": 4,
 "nbformat_minor": 5
}
