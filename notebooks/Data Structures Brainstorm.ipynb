{
 "cells": [
  {
   "cell_type": "markdown",
   "id": "0a101a42",
   "metadata": {},
   "source": [
    "I'm drawing the names [from this page](https://www.socialexplorer.com/data/ACS2016_5yr/metadata/?ds=ACS16_5yr&table=B25070). The site is called social explorer."
   ]
  },
  {
   "cell_type": "code",
   "execution_count": 7,
   "id": "efc2951f",
   "metadata": {},
   "outputs": [
    {
     "data": {
      "text/plain": [
       "[{'state': 'FL',\n",
       "  'year': 2022,\n",
       "  'tract': 1,\n",
       "  'table': 'B25070',\n",
       "  'table_name': 'Gross Rent as a Percentage of Household Income in the Past 12 Months',\n",
       "  'value': 3.0,\n",
       "  'variable_name': '001E',\n",
       "  'variable_label': 'Total',\n",
       "  'variable_low_limit': 1},\n",
       " {'state': 'FL',\n",
       "  'year': 2022,\n",
       "  'tract': 1,\n",
       "  'table': 'B25070',\n",
       "  'table_name': 'Gross Rent as a Percentage of Household Income in the Past 12 Months',\n",
       "  'value': 3.0,\n",
       "  'variable_name': '002E',\n",
       "  'variable_label': 'Less than 10.0 Percent',\n",
       "  'variable_low_limit': 1}]"
      ]
     },
     "execution_count": 7,
     "metadata": {},
     "output_type": "execute_result"
    }
   ],
   "source": [
    "binned_percent_records = [\n",
    "    {\n",
    "        \"state\": \"FL\",\n",
    "        \"year\": 2022,\n",
    "        \"tract\": 1,\n",
    "        \"table\": \"B25070\",\n",
    "        \"table_name\": \"Gross Rent as a Percentage of Household Income in the Past 12 Months\",\n",
    "        \"value\": 3.0,\n",
    "        \"variable_name\": \"001E\",\n",
    "        \"variable_label\": \"Total\",\n",
    "        \"variable_low_limit\": 1,\n",
    "    },\n",
    "    {\n",
    "        \"state\": \"FL\",\n",
    "        \"year\": 2022,\n",
    "        \"tract\": 1,\n",
    "        \"table\": \"B25070\",\n",
    "        \"table_name\": \"Gross Rent as a Percentage of Household Income in the Past 12 Months\",\n",
    "        \"value\": 3.0,\n",
    "        \"variable_name\": \"002E\",\n",
    "        \"variable_label\": \"Less than 10.0 Percent\",\n",
    "        \"variable_low_limit\": 1,\n",
    "    },\n",
    "    {\n",
    "        \"state\": \"FL\",\n",
    "        \"year\": 2022,\n",
    "        \"tract\": 1,\n",
    "        \"table\": \"B25070\",\n",
    "        \"table_name\": \"Gross Rent as a Percentage of Household Income in the Past 12 Months\",\n",
    "        \"value\": 3.0,\n",
    "        \"variable_name\": \"003E\",\n",
    "        \"variable_label\": \"10.0 to 14.9 Percent\",\n",
    "        \"variable_low_limit\": 1,\n",
    "    },\n",
    "]\n",
    "binned_percent_records[0:2]"
   ]
  },
  {
   "cell_type": "markdown",
   "id": "bd82f2d8",
   "metadata": {},
   "source": [
    "In order to make that work we'll need to store a constant that represents a lookup table. And that'll be something like:"
   ]
  },
  {
   "cell_type": "code",
   "execution_count": 11,
   "id": "e5981393",
   "metadata": {},
   "outputs": [],
   "source": [
    "acs_tables = {\n",
    "    \"B25070\": {\n",
    "        \"table_name\": \"Gross Rent as a Percentage of Household Income in the Past 12 Months\",\n",
    "        \"variables\": {\n",
    "            \"001E\": {\"value\": \"Less than 10.0 Percent\", \"error\": 6.0},\n",
    "            \"003E\": \"10.0 to 14.9 Percent\",\n",
    "        },\n",
    "    },\n",
    "}"
   ]
  },
  {
   "cell_type": "code",
   "execution_count": 15,
   "id": "3062db96",
   "metadata": {},
   "outputs": [
    {
     "data": {
      "text/plain": [
       "'Gross Rent as a Percentage of Household Income in the Past 12 Months'"
      ]
     },
     "execution_count": 15,
     "metadata": {},
     "output_type": "execute_result"
    }
   ],
   "source": [
    "acs_tables[\"B25070\"][\"table_name\"]"
   ]
  },
  {
   "cell_type": "code",
   "execution_count": 18,
   "id": "fe1a3964",
   "metadata": {},
   "outputs": [
    {
     "data": {
      "text/plain": [
       "{'value': 'Less than 10.0 Percent', 'error': 6.0}"
      ]
     },
     "execution_count": 18,
     "metadata": {},
     "output_type": "execute_result"
    }
   ],
   "source": [
    "acs_tables[\"B25070\"][\"variables\"]['001E']"
   ]
  },
  {
   "cell_type": "code",
   "execution_count": null,
   "id": "0bf3aad6",
   "metadata": {},
   "outputs": [],
   "source": [
    "travel_log = {\n",
    "    \"France\": {\"cities_visited\": [\"paris\", \"lille\", \"dijon\"], \"total_visits\": 10},\n",
    "    \"india\": {\n",
    "        \"cities_visited\": [\n",
    "            \"Mumbai\",\n",
    "            \"delhi\",\n",
    "            \"surat\",\n",
    "        ],\n",
    "        \"total_visits\": 12,\n",
    "    },\n",
    "}"
   ]
  }
 ],
 "metadata": {
  "kernelspec": {
   "display_name": "Python 3 (ipykernel)",
   "language": "python",
   "name": "python3"
  },
  "language_info": {
   "codemirror_mode": {
    "name": "ipython",
    "version": 3
   },
   "file_extension": ".py",
   "mimetype": "text/x-python",
   "name": "python",
   "nbconvert_exporter": "python",
   "pygments_lexer": "ipython3",
   "version": "3.9.5"
  },
  "toc": {
   "base_numbering": 1,
   "nav_menu": {},
   "number_sections": true,
   "sideBar": true,
   "skip_h1_title": false,
   "title_cell": "Table of Contents",
   "title_sidebar": "Contents",
   "toc_cell": false,
   "toc_position": {},
   "toc_section_display": true,
   "toc_window_display": false
  }
 },
 "nbformat": 4,
 "nbformat_minor": 5
}
